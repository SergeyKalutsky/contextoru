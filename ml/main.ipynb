{
 "cells": [
  {
   "cell_type": "code",
   "execution_count": 16,
   "metadata": {},
   "outputs": [],
   "source": [
    "import time\n",
    "import pickle\n",
    "from gensim.models import Word2Vec\n",
    "from tqdm import tqdm\n",
    "from gensim.models import KeyedVectors\n",
    "from clean import get_max_count\n",
    "\n",
    "tqdm.pandas()"
   ]
  },
  {
   "cell_type": "code",
   "execution_count": 3,
   "metadata": {},
   "outputs": [],
   "source": [
    "data = []\n",
    "for i in range(1, get_max_count()+1):\n",
    "    with open(f'data/chunck_{i}.pickle', 'rb') as f:\n",
    "        data += pickle.load(f)\n",
    "        "
   ]
  },
  {
   "cell_type": "code",
   "execution_count": 4,
   "metadata": {},
   "outputs": [],
   "source": [
    "new_data = []\n",
    "for sentences in data:\n",
    "    new_sentence = []\n",
    "    for sentence in sentences:\n",
    "        if len(sentence) > 1:\n",
    "            new_sentence.append(sentence)\n",
    "    if new_sentence:\n",
    "        new_data.append(new_sentence)"
   ]
  },
  {
   "cell_type": "code",
   "execution_count": 5,
   "metadata": {},
   "outputs": [
    {
     "name": "stdout",
     "output_type": "stream",
     "text": [
      "Time taken : 0.34 mins\n"
     ]
    }
   ],
   "source": [
    "start_time = time.time()\n",
    "\n",
    "model = Word2Vec(sentences=new_data, \n",
    "                 sg=1, \n",
    "                 vector_size=100,  \n",
    "                 workers=8)\n",
    "\n",
    "print(f'Time taken : {(time.time() - start_time) / 60:.2f} mins')"
   ]
  },
  {
   "cell_type": "code",
   "execution_count": 12,
   "metadata": {},
   "outputs": [
    {
     "data": {
      "text/plain": [
       "[('трумэн', 0.9536692500114441),\n",
       " ('кордеро', 0.9403548836708069),\n",
       " ('первез', 0.9334481954574585),\n",
       " ('кристиани', 0.9324125647544861),\n",
       " ('арбенс', 0.9317941069602966),\n",
       " ('хабиб', 0.9315749406814575),\n",
       " ('селайя', 0.9311283826828003),\n",
       " ('бутефлик', 0.9300989508628845),\n",
       " ('мушарраф', 0.9294007420539856),\n",
       " ('обама', 0.9283607006072998)]"
      ]
     },
     "execution_count": 12,
     "metadata": {},
     "output_type": "execute_result"
    }
   ],
   "source": [
    "model.wv.most_similar('байден')"
   ]
  },
  {
   "cell_type": "code",
   "execution_count": 19,
   "metadata": {},
   "outputs": [
    {
     "data": {
      "text/plain": [
       "[('сотовый', 0.8655335307121277),\n",
       " ('мобильный', 0.8582788109779358),\n",
       " ('проводной', 0.8471384048461914),\n",
       " ('абонент', 0.8382951617240906),\n",
       " ('телефонный', 0.8274407982826233),\n",
       " ('беспроводный', 0.8218246102333069),\n",
       " ('факсимильный', 0.816146194934845),\n",
       " ('беспроводной', 0.8144607543945312),\n",
       " ('провайдер', 0.8080863356590271),\n",
       " ('персональный', 0.8040611147880554)]"
      ]
     },
     "execution_count": 19,
     "metadata": {},
     "output_type": "execute_result"
    }
   ],
   "source": [
    "# model.wv.save_word2vec_format('custom_wiki_ru355texts.txt')\n",
    "\n",
    "\n",
    "# How to load:\n",
    "w2v = KeyedVectors.load_word2vec_format('custom_wiki_ru355texts.txt')\n",
    "\n",
    "# How to get vector using loaded model\n",
    "w2v.most_similar('телефон')"
   ]
  },
  {
   "cell_type": "code",
   "execution_count": null,
   "metadata": {},
   "outputs": [],
   "source": []
  }
 ],
 "metadata": {
  "kernelspec": {
   "display_name": "Python 3.10.4 64-bit",
   "language": "python",
   "name": "python3"
  },
  "language_info": {
   "codemirror_mode": {
    "name": "ipython",
    "version": 3
   },
   "file_extension": ".py",
   "mimetype": "text/x-python",
   "name": "python",
   "nbconvert_exporter": "python",
   "pygments_lexer": "ipython3",
   "version": "3.10.4"
  },
  "orig_nbformat": 4,
  "vscode": {
   "interpreter": {
    "hash": "369f2c481f4da34e4445cda3fffd2e751bd1c4d706f27375911949ba6bb62e1c"
   }
  }
 },
 "nbformat": 4,
 "nbformat_minor": 2
}

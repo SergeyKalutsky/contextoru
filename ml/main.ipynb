{
 "cells": [
  {
   "cell_type": "code",
   "execution_count": 59,
   "metadata": {},
   "outputs": [],
   "source": [
    "# pip install gensim\n",
    "import time\n",
    "import pickle\n",
    "import gensim\n",
    "from gensim.models import Word2Vec\n",
    "from gensim.models import KeyedVectors\n",
    "from clean import get_max_count\n"
   ]
  },
  {
   "cell_type": "code",
   "execution_count": 80,
   "metadata": {},
   "outputs": [
    {
     "name": "stdout",
     "output_type": "stream",
     "text": [
      "Найдено 10658 не пустых предложений\n",
      "Время занело: 0.01 mins\n"
     ]
    }
   ],
   "source": [
    "data = []\n",
    "for i in range(1, get_max_count()+1):\n",
    "    with open(f'data/chunck_{i}.pickle', 'rb') as f:\n",
    "        data += pickle.load(f)\n",
    "\n",
    "data = [i for i in data if len(i) > 0 ]\n",
    "print(f'Найдено {len(data)} не пустых предложений')\n",
    "\n",
    "start_time = time.time()\n",
    "\n",
    "model = Word2Vec(sentences=data, \n",
    "                 sg=1, \n",
    "                 vector_size=100,  \n",
    "                 workers=8)\n",
    "\n",
    "print(f'Время занело: {(time.time() - start_time) / 60:.2f} mins')"
   ]
  },
  {
   "cell_type": "code",
   "execution_count": 81,
   "metadata": {},
   "outputs": [
    {
     "data": {
      "text/plain": [
       "[('тело', 0.9950526356697083),\n",
       " ('рука', 0.9950180053710938),\n",
       " ('ударять', 0.9946057796478271),\n",
       " ('предполагать', 0.9943800568580627),\n",
       " ('животное', 0.9942545294761658),\n",
       " ('сбивать', 0.9938163161277771),\n",
       " ('рождественский', 0.9936397671699524),\n",
       " ('больной', 0.9936063289642334),\n",
       " ('сталкиваться', 0.9935958981513977),\n",
       " ('девочка', 0.9934260249137878)]"
      ]
     },
     "execution_count": 81,
     "metadata": {},
     "output_type": "execute_result"
    }
   ],
   "source": [
    "# Тестируем\n",
    "model.wv.most_similar('нога')"
   ]
  },
  {
   "cell_type": "code",
   "execution_count": 82,
   "metadata": {},
   "outputs": [
    {
     "data": {
      "text/plain": [
       "0.99501795"
      ]
     },
     "execution_count": 82,
     "metadata": {},
     "output_type": "execute_result"
    }
   ],
   "source": [
    "# Сохраняем\n",
    "model.wv.save_word2vec_format('custom_embedding.txt')\n",
    "\n",
    "# Загружаем:\n",
    "w2v = KeyedVectors.load_word2vec_format('custom_embedding.txt')\n",
    "\n",
    "# Схожесть\n",
    "w2v.similarity('нога', 'рука')"
   ]
  },
  {
   "cell_type": "code",
   "execution_count": null,
   "metadata": {},
   "outputs": [],
   "source": [
    "def get_most_simmilar_dict(word, topn):\n",
    "    vals = model.wv.most_similar(word, topn=topn)\n",
    "    d = {k: i+2 for i, (k, v) in enumerate(vals)}\n",
    "    return d\n",
    "\n",
    "get_most_simmilar_dict('нога', 10000)"
   ]
  },
  {
   "cell_type": "markdown",
   "metadata": {},
   "source": [
    "Вторая часть урока"
   ]
  },
  {
   "cell_type": "code",
   "execution_count": 8,
   "metadata": {},
   "outputs": [
    {
     "data": {
      "text/plain": [
       "[('весь_DET', 0),\n",
       " ('человек_NOUN', 1),\n",
       " ('мочь_VERB', 2),\n",
       " ('год_NOUN', 3),\n",
       " ('сказать_VERB', 4),\n",
       " ('время_NOUN', 5),\n",
       " ('говорить_VERB', 6),\n",
       " ('становиться_VERB', 7),\n",
       " ('знать_VERB', 8),\n",
       " ('самый_DET', 9)]"
      ]
     },
     "execution_count": 8,
     "metadata": {},
     "output_type": "execute_result"
    }
   ],
   "source": [
    "import gensim.downloader as api\n",
    "from gensim.models import Word2Vec\n",
    "model = api.load('word2vec-ruscorpora-300')  \n",
    "# # Загружаем модель натренированную на русском корпусу\n",
    "# https://ruscorpora.ru/ - РАССКАЗАТЬ ЧТО ЭТО ТАКОЕ \n",
    "list(model.key_to_index.items())[:10]"
   ]
  },
  {
   "cell_type": "code",
   "execution_count": 11,
   "metadata": {},
   "outputs": [],
   "source": [
    "d = {k.split('_')[0]: k for k in model.key_to_index}"
   ]
  },
  {
   "cell_type": "code",
   "execution_count": 12,
   "metadata": {},
   "outputs": [
    {
     "data": {
      "text/plain": [
       "0.5390179"
      ]
     },
     "execution_count": 12,
     "metadata": {},
     "output_type": "execute_result"
    }
   ],
   "source": [
    "model.similarity(d['нога'], d['рука'])"
   ]
  },
  {
   "cell_type": "code",
   "execution_count": 38,
   "metadata": {},
   "outputs": [],
   "source": [
    "def get_most_simmilar_dict(word, topn):\n",
    "    vals = model.most_similar(d[word], topn=topn)\n",
    "    d_ = {k.split('_')[0]: i+2 for i, (k, v) in enumerate(vals)}\n",
    "    return d_"
   ]
  },
  {
   "cell_type": "code",
   "execution_count": 22,
   "metadata": {},
   "outputs": [
    {
     "data": {
      "text/plain": [
       "'красивый'"
      ]
     },
     "execution_count": 22,
     "metadata": {},
     "output_type": "execute_result"
    }
   ],
   "source": [
    "from pymystem3 import Mystem\n",
    "text = \"Красивый\"\n",
    "m = Mystem()\n",
    "lemma = m.lemmatize(text)\n",
    "lemma[0]"
   ]
  },
  {
   "cell_type": "code",
   "execution_count": 39,
   "metadata": {},
   "outputs": [],
   "source": [
    "word_dict = get_most_simmilar_dict('нога', topn=100000)"
   ]
  },
  {
   "cell_type": "code",
   "execution_count": 44,
   "metadata": {},
   "outputs": [
    {
     "ename": "KeyError",
     "evalue": "'лев'",
     "output_type": "error",
     "traceback": [
      "\u001b[1;31m---------------------------------------------------------------------------\u001b[0m",
      "\u001b[1;31mKeyError\u001b[0m                                  Traceback (most recent call last)",
      "\u001b[1;32mc:\\Users\\Сергей\\lib\\contextoru\\ml\\main.ipynb Cell 13\u001b[0m line \u001b[0;36m1\n\u001b[1;32m----> <a href='vscode-notebook-cell:/c%3A/Users/%D0%A1%D0%B5%D1%80%D0%B3%D0%B5%D0%B9/lib/contextoru/ml/main.ipynb#X21sZmlsZQ%3D%3D?line=0'>1</a>\u001b[0m word_dict[\u001b[39m'\u001b[39;49m\u001b[39mлев\u001b[39;49m\u001b[39m'\u001b[39;49m]\n",
      "\u001b[1;31mKeyError\u001b[0m: 'лев'"
     ]
    }
   ],
   "source": [
    "word_dict['лев']"
   ]
  },
  {
   "cell_type": "code",
   "execution_count": 37,
   "metadata": {},
   "outputs": [
    {
     "data": {
      "text/plain": [
       "10"
      ]
     },
     "execution_count": 37,
     "metadata": {},
     "output_type": "execute_result"
    }
   ],
   "source": [
    "len(word_dict)"
   ]
  },
  {
   "cell_type": "code",
   "execution_count": null,
   "metadata": {},
   "outputs": [],
   "source": []
  }
 ],
 "metadata": {
  "kernelspec": {
   "display_name": "Python 3.10.4 64-bit",
   "language": "python",
   "name": "python3"
  },
  "language_info": {
   "codemirror_mode": {
    "name": "ipython",
    "version": 3
   },
   "file_extension": ".py",
   "mimetype": "text/x-python",
   "name": "python",
   "nbconvert_exporter": "python",
   "pygments_lexer": "ipython3",
   "version": "3.11.4"
  },
  "orig_nbformat": 4,
  "vscode": {
   "interpreter": {
    "hash": "369f2c481f4da34e4445cda3fffd2e751bd1c4d706f27375911949ba6bb62e1c"
   }
  }
 },
 "nbformat": 4,
 "nbformat_minor": 2
}
